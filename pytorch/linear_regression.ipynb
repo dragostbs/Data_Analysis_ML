{
 "cells": [
  {
   "cell_type": "code",
   "execution_count": 57,
   "metadata": {},
   "outputs": [],
   "source": [
    "import torch\n",
    "import numpy as np\n",
    "import matplotlib.pyplot as plt\n",
    "from torch.autograd import Variable"
   ]
  },
  {
   "attachments": {},
   "cell_type": "markdown",
   "metadata": {},
   "source": [
    "# Data Pred"
   ]
  },
  {
   "cell_type": "code",
   "execution_count": 58,
   "metadata": {},
   "outputs": [],
   "source": [
    "x_value = [i for i in range(11)]\n",
    "x_train = np.array(x_value, dtype=np.float32)\n",
    "x_train = x_train.reshape(-1, 1)\n",
    "\n",
    "y_value = [2*i + 1 for i in x_value]\n",
    "y_train = np.array(y_value, dtype=np.float32)\n",
    "y_train = y_train.reshape(-1, 1)"
   ]
  },
  {
   "cell_type": "code",
   "execution_count": 59,
   "metadata": {},
   "outputs": [],
   "source": [
    "class linearRegression(torch.nn.Module):\n",
    "    def __init__(self, inputSize, outputSize):\n",
    "        super(linearRegression, self).__init__()\n",
    "        self.linear = torch.nn.Linear(inputSize, outputSize)\n",
    "\n",
    "    def forward(self, x):\n",
    "        out = self.linear(x)\n",
    "        return out"
   ]
  },
  {
   "attachments": {},
   "cell_type": "markdown",
   "metadata": {},
   "source": [
    "# Model Prep"
   ]
  },
  {
   "cell_type": "code",
   "execution_count": 60,
   "metadata": {},
   "outputs": [
    {
     "data": {
      "text/plain": [
       "linearRegression(\n",
       "  (linear): Linear(in_features=1, out_features=1, bias=True)\n",
       ")"
      ]
     },
     "execution_count": 60,
     "metadata": {},
     "output_type": "execute_result"
    }
   ],
   "source": [
    "inputDim = 1       \n",
    "outputDim = 1       \n",
    "learningRate = 0.01 \n",
    "epochs = 100\n",
    "\n",
    "model = linearRegression(inputDim, outputDim)\n",
    "model"
   ]
  },
  {
   "attachments": {},
   "cell_type": "markdown",
   "metadata": {},
   "source": [
    "# Train Prep"
   ]
  },
  {
   "cell_type": "code",
   "execution_count": 61,
   "metadata": {},
   "outputs": [
    {
     "data": {
      "text/plain": [
       "SGD (\n",
       "Parameter Group 0\n",
       "    dampening: 0\n",
       "    differentiable: False\n",
       "    foreach: None\n",
       "    fused: None\n",
       "    lr: 0.01\n",
       "    maximize: False\n",
       "    momentum: 0\n",
       "    nesterov: False\n",
       "    weight_decay: 0\n",
       ")"
      ]
     },
     "execution_count": 61,
     "metadata": {},
     "output_type": "execute_result"
    }
   ],
   "source": [
    "criterion = torch.nn.MSELoss() \n",
    "optimizer = torch.optim.SGD(model.parameters(), lr=learningRate)\n",
    "\n",
    "optimizer"
   ]
  },
  {
   "cell_type": "code",
   "execution_count": 62,
   "metadata": {},
   "outputs": [
    {
     "name": "stdout",
     "output_type": "stream",
     "text": [
      "tensor(318.1559, grad_fn=<MseLossBackward0>)\n",
      "epoch 0, loss 318.1558837890625\n",
      "tensor(25.9517, grad_fn=<MseLossBackward0>)\n",
      "epoch 1, loss 25.951698303222656\n",
      "tensor(2.1175, grad_fn=<MseLossBackward0>)\n",
      "epoch 2, loss 2.1175179481506348\n",
      "tensor(0.1734, grad_fn=<MseLossBackward0>)\n",
      "epoch 3, loss 0.17343004047870636\n",
      "tensor(0.0148, grad_fn=<MseLossBackward0>)\n",
      "epoch 4, loss 0.014848891645669937\n",
      "tensor(0.0019, grad_fn=<MseLossBackward0>)\n",
      "epoch 5, loss 0.0019061840139329433\n",
      "tensor(0.0008, grad_fn=<MseLossBackward0>)\n",
      "epoch 6, loss 0.0008427494904026389\n",
      "tensor(0.0007, grad_fn=<MseLossBackward0>)\n",
      "epoch 7, loss 0.0007483091321773827\n",
      "tensor(0.0007, grad_fn=<MseLossBackward0>)\n",
      "epoch 8, loss 0.0007330288644880056\n",
      "tensor(0.0007, grad_fn=<MseLossBackward0>)\n",
      "epoch 9, loss 0.0007242826395668089\n",
      "tensor(0.0007, grad_fn=<MseLossBackward0>)\n",
      "epoch 10, loss 0.00071614736225456\n",
      "tensor(0.0007, grad_fn=<MseLossBackward0>)\n",
      "epoch 11, loss 0.0007081420626491308\n",
      "tensor(0.0007, grad_fn=<MseLossBackward0>)\n",
      "epoch 12, loss 0.0007002361817285419\n",
      "tensor(0.0007, grad_fn=<MseLossBackward0>)\n",
      "epoch 13, loss 0.0006924202316440642\n",
      "tensor(0.0007, grad_fn=<MseLossBackward0>)\n",
      "epoch 14, loss 0.0006846888572908938\n",
      "tensor(0.0007, grad_fn=<MseLossBackward0>)\n",
      "epoch 15, loss 0.0006770402542315423\n",
      "tensor(0.0007, grad_fn=<MseLossBackward0>)\n",
      "epoch 16, loss 0.0006694822222925723\n",
      "tensor(0.0007, grad_fn=<MseLossBackward0>)\n",
      "epoch 17, loss 0.0006620102212764323\n",
      "tensor(0.0007, grad_fn=<MseLossBackward0>)\n",
      "epoch 18, loss 0.0006546199438162148\n",
      "tensor(0.0006, grad_fn=<MseLossBackward0>)\n",
      "epoch 19, loss 0.0006472977111116052\n",
      "tensor(0.0006, grad_fn=<MseLossBackward0>)\n",
      "epoch 20, loss 0.0006400849670171738\n",
      "tensor(0.0006, grad_fn=<MseLossBackward0>)\n",
      "epoch 21, loss 0.0006329328170977533\n",
      "tensor(0.0006, grad_fn=<MseLossBackward0>)\n",
      "epoch 22, loss 0.0006258643697947264\n",
      "tensor(0.0006, grad_fn=<MseLossBackward0>)\n",
      "epoch 23, loss 0.000618876307271421\n",
      "tensor(0.0006, grad_fn=<MseLossBackward0>)\n",
      "epoch 24, loss 0.0006119628669694066\n",
      "tensor(0.0006, grad_fn=<MseLossBackward0>)\n",
      "epoch 25, loss 0.0006051388336345553\n",
      "tensor(0.0006, grad_fn=<MseLossBackward0>)\n",
      "epoch 26, loss 0.0005983748706057668\n",
      "tensor(0.0006, grad_fn=<MseLossBackward0>)\n",
      "epoch 27, loss 0.0005916918162256479\n",
      "tensor(0.0006, grad_fn=<MseLossBackward0>)\n",
      "epoch 28, loss 0.0005850876332260668\n",
      "tensor(0.0006, grad_fn=<MseLossBackward0>)\n",
      "epoch 29, loss 0.0005785457324236631\n",
      "tensor(0.0006, grad_fn=<MseLossBackward0>)\n",
      "epoch 30, loss 0.0005720840417779982\n",
      "tensor(0.0006, grad_fn=<MseLossBackward0>)\n",
      "epoch 31, loss 0.0005657094880007207\n",
      "tensor(0.0006, grad_fn=<MseLossBackward0>)\n",
      "epoch 32, loss 0.0005593753885477781\n",
      "tensor(0.0006, grad_fn=<MseLossBackward0>)\n",
      "epoch 33, loss 0.00055313651682809\n",
      "tensor(0.0005, grad_fn=<MseLossBackward0>)\n",
      "epoch 34, loss 0.0005469549796544015\n",
      "tensor(0.0005, grad_fn=<MseLossBackward0>)\n",
      "epoch 35, loss 0.0005408625584095716\n",
      "tensor(0.0005, grad_fn=<MseLossBackward0>)\n",
      "epoch 36, loss 0.0005348236300051212\n",
      "tensor(0.0005, grad_fn=<MseLossBackward0>)\n",
      "epoch 37, loss 0.0005288521060720086\n",
      "tensor(0.0005, grad_fn=<MseLossBackward0>)\n",
      "epoch 38, loss 0.0005229364614933729\n",
      "tensor(0.0005, grad_fn=<MseLossBackward0>)\n",
      "epoch 39, loss 0.0005170965450815856\n",
      "tensor(0.0005, grad_fn=<MseLossBackward0>)\n",
      "epoch 40, loss 0.0005113219958730042\n",
      "tensor(0.0005, grad_fn=<MseLossBackward0>)\n",
      "epoch 41, loss 0.0005056090885773301\n",
      "tensor(0.0005, grad_fn=<MseLossBackward0>)\n",
      "epoch 42, loss 0.0004999719676561654\n",
      "tensor(0.0005, grad_fn=<MseLossBackward0>)\n",
      "epoch 43, loss 0.0004943856038153172\n",
      "tensor(0.0005, grad_fn=<MseLossBackward0>)\n",
      "epoch 44, loss 0.0004888658877462149\n",
      "tensor(0.0005, grad_fn=<MseLossBackward0>)\n",
      "epoch 45, loss 0.00048339759814552963\n",
      "tensor(0.0005, grad_fn=<MseLossBackward0>)\n",
      "epoch 46, loss 0.0004780057060997933\n",
      "tensor(0.0005, grad_fn=<MseLossBackward0>)\n",
      "epoch 47, loss 0.00047266759793274105\n",
      "tensor(0.0005, grad_fn=<MseLossBackward0>)\n",
      "epoch 48, loss 0.00046739037497900426\n",
      "tensor(0.0005, grad_fn=<MseLossBackward0>)\n",
      "epoch 49, loss 0.00046216545160859823\n",
      "tensor(0.0005, grad_fn=<MseLossBackward0>)\n",
      "epoch 50, loss 0.00045700164628215134\n",
      "tensor(0.0005, grad_fn=<MseLossBackward0>)\n",
      "epoch 51, loss 0.0004519061476457864\n",
      "tensor(0.0004, grad_fn=<MseLossBackward0>)\n",
      "epoch 52, loss 0.00044685424654744565\n",
      "tensor(0.0004, grad_fn=<MseLossBackward0>)\n",
      "epoch 53, loss 0.00044187021558173\n",
      "tensor(0.0004, grad_fn=<MseLossBackward0>)\n",
      "epoch 54, loss 0.00043693353654816747\n",
      "tensor(0.0004, grad_fn=<MseLossBackward0>)\n",
      "epoch 55, loss 0.00043205099063925445\n",
      "tensor(0.0004, grad_fn=<MseLossBackward0>)\n",
      "epoch 56, loss 0.0004272307560313493\n",
      "tensor(0.0004, grad_fn=<MseLossBackward0>)\n",
      "epoch 57, loss 0.00042245088843628764\n",
      "tensor(0.0004, grad_fn=<MseLossBackward0>)\n",
      "epoch 58, loss 0.00041774296551011503\n",
      "tensor(0.0004, grad_fn=<MseLossBackward0>)\n",
      "epoch 59, loss 0.00041307127685286105\n",
      "tensor(0.0004, grad_fn=<MseLossBackward0>)\n",
      "epoch 60, loss 0.0004084611136931926\n",
      "tensor(0.0004, grad_fn=<MseLossBackward0>)\n",
      "epoch 61, loss 0.0004038992046844214\n",
      "tensor(0.0004, grad_fn=<MseLossBackward0>)\n",
      "epoch 62, loss 0.00039939259295351803\n",
      "tensor(0.0004, grad_fn=<MseLossBackward0>)\n",
      "epoch 63, loss 0.00039492620271630585\n",
      "tensor(0.0004, grad_fn=<MseLossBackward0>)\n",
      "epoch 64, loss 0.00039051167550496757\n",
      "tensor(0.0004, grad_fn=<MseLossBackward0>)\n",
      "epoch 65, loss 0.00038615960511378944\n",
      "tensor(0.0004, grad_fn=<MseLossBackward0>)\n",
      "epoch 66, loss 0.00038184438017196953\n",
      "tensor(0.0004, grad_fn=<MseLossBackward0>)\n",
      "epoch 67, loss 0.00037758235703222454\n",
      "tensor(0.0004, grad_fn=<MseLossBackward0>)\n",
      "epoch 68, loss 0.00037336963578127325\n",
      "tensor(0.0004, grad_fn=<MseLossBackward0>)\n",
      "epoch 69, loss 0.0003691992023959756\n",
      "tensor(0.0004, grad_fn=<MseLossBackward0>)\n",
      "epoch 70, loss 0.00036507201730273664\n",
      "tensor(0.0004, grad_fn=<MseLossBackward0>)\n",
      "epoch 71, loss 0.00036099503631703556\n",
      "tensor(0.0004, grad_fn=<MseLossBackward0>)\n",
      "epoch 72, loss 0.0003569687542039901\n",
      "tensor(0.0004, grad_fn=<MseLossBackward0>)\n",
      "epoch 73, loss 0.00035297832801006734\n",
      "tensor(0.0003, grad_fn=<MseLossBackward0>)\n",
      "epoch 74, loss 0.0003490470699034631\n",
      "tensor(0.0003, grad_fn=<MseLossBackward0>)\n",
      "epoch 75, loss 0.0003451395023148507\n",
      "tensor(0.0003, grad_fn=<MseLossBackward0>)\n",
      "epoch 76, loss 0.0003412882797420025\n",
      "tensor(0.0003, grad_fn=<MseLossBackward0>)\n",
      "epoch 77, loss 0.0003374832740519196\n",
      "tensor(0.0003, grad_fn=<MseLossBackward0>)\n",
      "epoch 78, loss 0.00033370195887982845\n",
      "tensor(0.0003, grad_fn=<MseLossBackward0>)\n",
      "epoch 79, loss 0.00032998432288877666\n",
      "tensor(0.0003, grad_fn=<MseLossBackward0>)\n",
      "epoch 80, loss 0.000326301233144477\n",
      "tensor(0.0003, grad_fn=<MseLossBackward0>)\n",
      "epoch 81, loss 0.00032265533809550107\n",
      "tensor(0.0003, grad_fn=<MseLossBackward0>)\n",
      "epoch 82, loss 0.0003190462593920529\n",
      "tensor(0.0003, grad_fn=<MseLossBackward0>)\n",
      "epoch 83, loss 0.0003154871519654989\n",
      "tensor(0.0003, grad_fn=<MseLossBackward0>)\n",
      "epoch 84, loss 0.000311963987769559\n",
      "tensor(0.0003, grad_fn=<MseLossBackward0>)\n",
      "epoch 85, loss 0.0003084816562477499\n",
      "tensor(0.0003, grad_fn=<MseLossBackward0>)\n",
      "epoch 86, loss 0.00030503401649184525\n",
      "tensor(0.0003, grad_fn=<MseLossBackward0>)\n",
      "epoch 87, loss 0.0003016249102074653\n",
      "tensor(0.0003, grad_fn=<MseLossBackward0>)\n",
      "epoch 88, loss 0.00029826167155988514\n",
      "tensor(0.0003, grad_fn=<MseLossBackward0>)\n",
      "epoch 89, loss 0.0002949380432255566\n",
      "tensor(0.0003, grad_fn=<MseLossBackward0>)\n",
      "epoch 90, loss 0.0002916380763053894\n",
      "tensor(0.0003, grad_fn=<MseLossBackward0>)\n",
      "epoch 91, loss 0.0002883890410885215\n",
      "tensor(0.0003, grad_fn=<MseLossBackward0>)\n",
      "epoch 92, loss 0.00028516657766886055\n",
      "tensor(0.0003, grad_fn=<MseLossBackward0>)\n",
      "epoch 93, loss 0.0002819834044203162\n",
      "tensor(0.0003, grad_fn=<MseLossBackward0>)\n",
      "epoch 94, loss 0.0002788309648167342\n",
      "tensor(0.0003, grad_fn=<MseLossBackward0>)\n",
      "epoch 95, loss 0.00027571385726332664\n",
      "tensor(0.0003, grad_fn=<MseLossBackward0>)\n",
      "epoch 96, loss 0.0002726408711168915\n",
      "tensor(0.0003, grad_fn=<MseLossBackward0>)\n",
      "epoch 97, loss 0.000269593350822106\n",
      "tensor(0.0003, grad_fn=<MseLossBackward0>)\n",
      "epoch 98, loss 0.0002665871870703995\n",
      "tensor(0.0003, grad_fn=<MseLossBackward0>)\n",
      "epoch 99, loss 0.000263598543824628\n"
     ]
    }
   ],
   "source": [
    "for epoch in range(epochs):\n",
    "    inputs = Variable(torch.from_numpy(x_train))\n",
    "    labels = Variable(torch.from_numpy(y_train))\n",
    "\n",
    "    optimizer.zero_grad()\n",
    "\n",
    "    outputs = model(inputs)\n",
    "\n",
    "    loss = criterion(outputs, labels)\n",
    "    print(loss)\n",
    "\n",
    "    loss.backward()\n",
    "\n",
    "    optimizer.step()\n",
    "\n",
    "    print(f'epoch {epoch}, loss {loss.item()}')\n"
   ]
  },
  {
   "attachments": {},
   "cell_type": "markdown",
   "metadata": {},
   "source": [
    "# Test performance"
   ]
  },
  {
   "cell_type": "code",
   "execution_count": 63,
   "metadata": {},
   "outputs": [
    {
     "name": "stdout",
     "output_type": "stream",
     "text": [
      "[[ 1.030202 ]\n",
      " [ 3.0258527]\n",
      " [ 5.0215034]\n",
      " [ 7.0171537]\n",
      " [ 9.012805 ]\n",
      " [11.008455 ]\n",
      " [13.004106 ]\n",
      " [14.999757 ]\n",
      " [16.995407 ]\n",
      " [18.991058 ]\n",
      " [20.98671  ]]\n"
     ]
    }
   ],
   "source": [
    "with torch.no_grad():\n",
    "    predicted = model(Variable(torch.from_numpy(x_train))).data.numpy()\n",
    "    print(predicted)"
   ]
  },
  {
   "cell_type": "code",
   "execution_count": 64,
   "metadata": {},
   "outputs": [
    {
     "data": {
      "image/png": "[encoded data removed]",
      "text/plain": [
       "<Figure size 640x480 with 1 Axes>"
      ]
     },
     "metadata": {},
     "output_type": "display_data"
    }
   ],
   "source": [
    "plt.clf()\n",
    "plt.plot(x_train, y_train, 'go', label='True data', alpha=0.5)\n",
    "plt.plot(x_train, predicted, '--', label='Predictions', alpha=0.5)\n",
    "plt.legend(loc='best')\n",
    "plt.show()"
   ]
  },
  {
   "cell_type": "code",
   "execution_count": null,
   "metadata": {},
   "outputs": [],
   "source": []
  }
 ],
 "metadata": {
  "kernelspec": {
   "display_name": "Python 3",
   "language": "python",
   "name": "python3"
  },
  "language_info": {
   "codemirror_mode": {
    "name": "ipython",
    "version": 3
   },
   "file_extension": ".py",
   "mimetype": "text/x-python",
   "name": "python",
   "nbconvert_exporter": "python",
   "pygments_lexer": "ipython3",
   "version": "3.10.11"
  },
  "orig_nbformat": 4
 },
 "nbformat": 4,
 "nbformat_minor": 2
}
